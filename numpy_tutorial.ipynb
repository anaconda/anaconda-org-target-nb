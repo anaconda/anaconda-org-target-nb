{
 "cells": [
  {
   "cell_type": "markdown",
   "id": "b01610f8-e37b-44cb-9579-40e7cd5d7eb1",
   "metadata": {},
   "source": [
    "# Let's provide a quick tour of Numpy\n",
    "\n",
    "##### There is a lot more to numpy. Check out the official docs here: https://numpy.org/doc/stable/"
   ]
  },
  {
   "cell_type": "markdown",
   "id": "5acf7ef5-9662-412d-bfec-c30329c754a0",
   "metadata": {},
   "source": [
    "### Import numpy"
   ]
  },
    {
   "cell_type": "code",
   "execution_count": 3,
   "id": "ffe0e40f-e3d6-47cb-b7cc-7e3cd2494408",
   "metadata": {},
   "outputs": [],
   "source": [
    "!conda install numpy -y"
   ]
  },
  {
   "cell_type": "code",
   "execution_count": 4,
   "id": "a42d0c64-395a-4243-a1a7-91391d2d80a5",
   "metadata": {},
   "outputs": [],
   "source": [
    "import numpy as np"
   ]
  },
  {
   "cell_type": "markdown",
   "id": "8cdb1abc-1c1b-4e9d-aac8-fd2beb3154e9",
   "metadata": {},
   "source": [
    "### Create some random data"
   ]
  },
  {
   "cell_type": "code",
   "execution_count": 13,
   "id": "31513d49-b69e-4fd7-a1a7-f8744eb95fac",
   "metadata": {},
   "outputs": [],
   "source": [
    "X = np.random.rand(4, 20)"
   ]
  },
  {
   "cell_type": "code",
   "execution_count": 14,
   "id": "d4652641-af56-4e52-8ca7-04b48fe8feca",
   "metadata": {},
   "outputs": [
    {
     "data": {
      "text/plain": [
       "array([[0.92439202, 0.42301613, 0.78393172, 0.44179879, 0.02259457,\n",
       "        0.32262132, 0.21800757, 0.54307625, 0.45231825, 0.5023215 ,\n",
       "        0.44825997, 0.18563643, 0.71866707, 0.8743183 , 0.89872197,\n",
       "        0.7383638 , 0.30956885, 0.42315437, 0.01233925, 0.43131497],\n",
       "       [0.71852459, 0.20235018, 0.05066127, 0.62635084, 0.99897546,\n",
       "        0.21939586, 0.68956545, 0.06083324, 0.7028063 , 0.19406162,\n",
       "        0.97114999, 0.26832841, 0.9067692 , 0.60051322, 0.15163001,\n",
       "        0.37326017, 0.32152136, 0.57391919, 0.03768666, 0.81100051],\n",
       "       [0.30882907, 0.525554  , 0.57532427, 0.26655367, 0.84989498,\n",
       "        0.55536954, 0.38251368, 0.35961804, 0.79680849, 0.85786082,\n",
       "        0.09322322, 0.2667367 , 0.97107657, 0.81292242, 0.51966205,\n",
       "        0.80469264, 0.13679313, 0.3866799 , 0.93812857, 0.66204543],\n",
       "       [0.0251668 , 0.16289911, 0.08252049, 0.92709477, 0.62864598,\n",
       "        0.84750938, 0.00528755, 0.57528142, 0.88964458, 0.00668728,\n",
       "        0.73816489, 0.31287837, 0.30596061, 0.83688414, 0.0875293 ,\n",
       "        0.78192966, 0.35551488, 0.08461073, 0.9238882 , 0.09035721]])"
      ]
     },
     "execution_count": 14,
     "metadata": {},
     "output_type": "execute_result"
    }
   ],
   "source": [
    "X"
   ]
  },
  {
   "cell_type": "markdown",
   "id": "00601959-b93f-4fe1-a0ec-25b861b2ea5c",
   "metadata": {},
   "source": [
    "### Make a selection of the idx 0 column"
   ]
  },
  {
   "cell_type": "code",
   "execution_count": 27,
   "id": "6a3ed451-887a-4dfe-a5de-15510fe7ed09",
   "metadata": {},
   "outputs": [
    {
     "data": {
      "text/plain": [
       "array([0.92439202, 0.71852459, 0.30882907, 0.0251668 ])"
      ]
     },
     "execution_count": 27,
     "metadata": {},
     "output_type": "execute_result"
    }
   ],
   "source": [
    "X[:,0]"
   ]
  },
  {
   "cell_type": "markdown",
   "id": "c7b6e8fb-047d-46a9-9ed6-973308ff5123",
   "metadata": {},
   "source": [
    "### Make a selection of the idx 1 row"
   ]
  },
  {
   "cell_type": "code",
   "execution_count": 28,
   "id": "333d331a-b4f6-43d8-a18b-29c9af1f5730",
   "metadata": {},
   "outputs": [
    {
     "data": {
      "text/plain": [
       "array([0.71852459, 0.20235018, 0.05066127, 0.62635084, 0.99897546,\n",
       "       0.21939586, 0.68956545, 0.06083324, 0.7028063 , 0.19406162,\n",
       "       0.97114999, 0.26832841, 0.9067692 , 0.60051322, 0.15163001,\n",
       "       0.37326017, 0.32152136, 0.57391919, 0.03768666, 0.81100051])"
      ]
     },
     "execution_count": 28,
     "metadata": {},
     "output_type": "execute_result"
    }
   ],
   "source": [
    "X[1,:]"
   ]
  },
  {
   "cell_type": "markdown",
   "id": "0f5698d0-a08a-4d25-850e-068a2ee7bf84",
   "metadata": {},
   "source": [
    "### sum all numbers in the array"
   ]
  },
  {
   "cell_type": "code",
   "execution_count": 29,
   "id": "e41124d4-e14d-4cf6-9295-9040ad1e7f54",
   "metadata": {},
   "outputs": [
    {
     "data": {
      "text/plain": [
       "38.892469186878046"
      ]
     },
     "execution_count": 29,
     "metadata": {},
     "output_type": "execute_result"
    }
   ],
   "source": [
    "X.sum()"
   ]
  },
  {
   "cell_type": "markdown",
   "id": "96f46c82-a6a1-4efd-9938-3e3301d6d46d",
   "metadata": {},
   "source": [
    "### sum all numbers in the array across the columns"
   ]
  },
  {
   "cell_type": "code",
   "execution_count": 30,
   "id": "a360533e-c90c-4540-8951-a091cc01066c",
   "metadata": {},
   "outputs": [
    {
     "data": {
      "text/plain": [
       "array([ 9.67442309,  9.47930353, 11.0702872 ,  8.66845537])"
      ]
     },
     "execution_count": 30,
     "metadata": {},
     "output_type": "execute_result"
    }
   ],
   "source": [
    "X.sum(axis=1)"
   ]
  },
  {
   "cell_type": "code",
   "execution_count": null,
   "id": "443dd6ea-fc58-421c-961d-fe1fcfedb10f",
   "metadata": {},
   "outputs": [],
   "source": []
  }
 ],
 "metadata": {
  "kernelspec": {
   "display_name": "Python 3 (ipykernel)",
   "language": "python",
   "name": "python3"
  },
  "language_info": {
   "codemirror_mode": {
    "name": "ipython",
    "version": 3
   },
   "file_extension": ".py",
   "mimetype": "text/x-python",
   "name": "python",
   "nbconvert_exporter": "python",
   "pygments_lexer": "ipython3",
   "version": "3.9.12"
  }
 },
 "nbformat": 4,
 "nbformat_minor": 5
}
